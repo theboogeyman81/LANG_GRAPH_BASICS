{
 "cells": [
  {
   "cell_type": "code",
   "execution_count": 14,
   "id": "3361b8ec",
   "metadata": {},
   "outputs": [],
   "source": [
    "from langgraph.graph import StateGraph, START, END\n",
    "from typing import TypedDict"
   ]
  },
  {
   "cell_type": "code",
   "execution_count": 15,
   "id": "eab1c655",
   "metadata": {},
   "outputs": [],
   "source": [
    "from typing import TypedDict\n",
    "\n",
    "class Batsman(TypedDict):\n",
    "    runs: int\n",
    "    balls: int\n",
    "    fours:int\n",
    "    sixes:int\n",
    "\n",
    "    strike_rate: float\n",
    "    bpb:float\n",
    "    boundary_percentage:float\n",
    "    summary:str\n",
    "\n"
   ]
  },
  {
   "cell_type": "code",
   "execution_count": 16,
   "id": "c54de900",
   "metadata": {},
   "outputs": [],
   "source": [
    "def calculate_strike_rate(state:Batsman)->Batsman:\n",
    "\n",
    "    sr=state['runs']/state['balls']*100\n",
    "\n",
    "    return {'strike_rate':sr}"
   ]
  },
  {
   "cell_type": "code",
   "execution_count": 17,
   "id": "5c4cef3c",
   "metadata": {},
   "outputs": [],
   "source": [
    "def calculate_bpb(state:Batsman)->Batsman:\n",
    "\n",
    "    bpb = state['balls']/(state['fours']+state['sixes'])\n",
    "\n",
    "    return {'bpb':bpb}"
   ]
  },
  {
   "cell_type": "code",
   "execution_count": 18,
   "id": "895d4a8a",
   "metadata": {},
   "outputs": [],
   "source": [
    "def calculate_boundary_percentage(state:Batsman)->Batsman:\n",
    "\n",
    "    boundary_percentage = (state['fours']+state['sixes'])/state['balls']*100\n",
    "\n",
    "    return {'boundary_percentage':boundary_percentage}"
   ]
  },
  {
   "cell_type": "code",
   "execution_count": 19,
   "id": "b9050605",
   "metadata": {},
   "outputs": [],
   "source": [
    "def summary(state:Batsman)->Batsman:\n",
    "\n",
    "    summary = f\"Batsman scored {state['runs']} runs in {state['balls']} balls with a strike rate of {state['strike_rate']}% and a boundary percentage of {state['boundary_percentage']}%\"\n",
    "\n",
    "    return {'summary':summary}"
   ]
  },
  {
   "cell_type": "code",
   "execution_count": 20,
   "id": "0be812af",
   "metadata": {},
   "outputs": [],
   "source": [
    "graph = StateGraph(Batsman)\n",
    "\n",
    "\n",
    "graph.add_node(\"calculate_strike_rate\",calculate_strike_rate)\n",
    "graph.add_node(\"calculate_bpb\",calculate_bpb)\n",
    "graph.add_node(\"calculate_boundary_percentage\",calculate_boundary_percentage)\n",
    "graph.add_node(\"summary\",summary)\n",
    "\n",
    "graph.add_edge(START, \"calculate_strike_rate\")\n",
    "graph.add_edge(START, \"calculate_bpb\")\n",
    "graph.add_edge(START, \"calculate_boundary_percentage\")\n",
    "\n",
    "graph.add_edge(\"calculate_strike_rate\", \"summary\")\n",
    "graph.add_edge(\"calculate_bpb\", \"summary\")\n",
    "graph.add_edge(\"calculate_boundary_percentage\", \"summary\")\n",
    "graph.add_edge(\"summary\", END)\n",
    "\n",
    "workfloew=graph.compile()"
   ]
  },
  {
   "cell_type": "code",
   "execution_count": 21,
   "id": "7f584250",
   "metadata": {},
   "outputs": [
    {
     "data": {
      "image/png": "[encoded data removed]",
      "text/plain": [
       "<langgraph.graph.state.CompiledStateGraph object at 0x130a4cdd0>"
      ]
     },
     "execution_count": 21,
     "metadata": {},
     "output_type": "execute_result"
    }
   ],
   "source": [
    "workfloew"
   ]
  },
  {
   "cell_type": "code",
   "execution_count": 22,
   "id": "4444158a",
   "metadata": {},
   "outputs": [
    {
     "data": {
      "text/plain": [
       "{'runs': 100,\n",
       " 'balls': 50,\n",
       " 'fours': 6,\n",
       " 'sixes': 4,\n",
       " 'strike_rate': 200.0,\n",
       " 'bpb': 5.0,\n",
       " 'boundary_percentage': 20.0,\n",
       " 'summary': 'Batsman scored 100 runs in 50 balls with a strike rate of 200.0% and a boundary percentage of 20.0%'}"
      ]
     },
     "execution_count": 22,
     "metadata": {},
     "output_type": "execute_result"
    }
   ],
   "source": [
    "intial_state = {\n",
    "    'runs':100,\n",
    "    'balls':50,\n",
    "    'fours':6,\n",
    "    'sixes':4,\n",
    "}\n",
    "\n",
    "workfloew.invoke(intial_state)"
   ]
  },
  {
   "cell_type": "code",
   "execution_count": null,
   "id": "390c03a6",
   "metadata": {},
   "outputs": [],
   "source": []
  }
 ],
 "metadata": {
  "kernelspec": {
   "display_name": ".venv",
   "language": "python",
   "name": "python3"
  },
  "language_info": {
   "codemirror_mode": {
    "name": "ipython",
    "version": 3
   },
   "file_extension": ".py",
   "mimetype": "text/x-python",
   "name": "python",
   "nbconvert_exporter": "python",
   "pygments_lexer": "ipython3",
   "version": "3.12.2"
  }
 },
 "nbformat": 4,
 "nbformat_minor": 5
}
